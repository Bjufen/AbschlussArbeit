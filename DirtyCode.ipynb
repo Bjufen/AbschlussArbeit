{
 "cells": [
  {
   "metadata": {},
   "cell_type": "markdown",
   "source": [
    "The Dataset contains the following 12 features:\n",
    "\n",
    "CustomerID: A unique identifier\n",
    "\n",
    "Age: The age of the customer\n",
    "\n",
    "Gender: The gender of the customer\n",
    "\n",
    "Tenure: The number of months the customer has stayed with the company\n",
    "\n",
    "Usage Frequency: The number of times the customer has used the service the past month\n",
    "\n",
    "Support calls: The number of support calls the customer has made the past month\n",
    "\n",
    "Payment Delay: Number of days the customer has delayed payment the past month\n",
    "\n",
    "Subscription Type: The type of subscription the customer has\n",
    "\n",
    "Contract Length: Duration of the contract\n",
    "\n",
    "Total Spend: The total amount the customer has spent\n",
    "\n",
    "Last Interaction: Number of days since the last interaction the customer has had with the company\n",
    "\n",
    "Churn: Whether the customer has churned or not"
   ],
   "id": "9d1fbd99fdf5df0d"
  },
  {
   "metadata": {},
   "cell_type": "markdown",
   "source": "# Import packages",
   "id": "eb52de71c88559da"
  },
  {
   "cell_type": "code",
   "id": "af274228a76fce1a",
   "metadata": {
    "collapsed": true,
    "ExecuteTime": {
     "end_time": "2024-06-12T20:04:50.836244Z",
     "start_time": "2024-06-12T20:04:50.820665Z"
    }
   },
   "source": [
    "import pandas as pd\n",
    "from sklearn.preprocessing import LabelEncoder\n",
    "from sklearn.preprocessing import OneHotEncoder\n",
    "from sklearn.linear_model import LogisticRegression\n",
    "from sklearn.model_selection import train_test_split\n",
    "from sklearn.metrics import mean_squared_error, mean_absolute_error, r2_score, accuracy_score, precision_score, recall_score, f1_score, roc_auc_score\n",
    "from sklearn.linear_model import LogisticRegression\n",
    "from sklearn.preprocessing import StandardScaler\n",
    "import numpy as np\n",
    "import matplotlib.pyplot as plt\n",
    "import seaborn as sns\n",
    "import itertools"
   ],
   "outputs": [],
   "execution_count": 37
  },
  {
   "metadata": {},
   "cell_type": "markdown",
   "source": "# Cleanup",
   "id": "e5aa3d024b73091a"
  },
  {
   "metadata": {
    "ExecuteTime": {
     "end_time": "2024-06-12T18:46:05.122863Z",
     "start_time": "2024-06-12T18:46:04.386649Z"
    }
   },
   "cell_type": "code",
   "source": [
    "test_set_dirty = pd.read_csv(\"Datasets/In/customer_churn_dataset-testing-master.csv\", sep=\",\")\n",
    "training_set_dirty = pd.read_csv(\"Datasets/In/customer_churn_dataset-training-master.csv\", sep=\",\")\n",
    "\n",
    "combined_set_dirty = pd.concat([training_set_dirty, test_set_dirty], ignore_index=True)\n",
    "combined_set_dirty = combined_set_dirty.drop(combined_set_dirty.columns[0], axis=1)\n"
   ],
   "id": "initial_id",
   "outputs": [],
   "execution_count": 2
  },
  {
   "metadata": {
    "ExecuteTime": {
     "end_time": "2024-06-12T18:46:06.307877Z",
     "start_time": "2024-06-12T18:46:06.161159Z"
    }
   },
   "cell_type": "code",
   "source": [
    "missing_values = combined_set_dirty.isnull().sum()\n",
    "missing_values"
   ],
   "id": "3a5f283dfd9c40ce",
   "outputs": [
    {
     "data": {
      "text/plain": [
       "Age                  1\n",
       "Gender               1\n",
       "Tenure               1\n",
       "Usage Frequency      1\n",
       "Support Calls        1\n",
       "Payment Delay        1\n",
       "Subscription Type    1\n",
       "Contract Length      1\n",
       "Total Spend          1\n",
       "Last Interaction     1\n",
       "Churn                1\n",
       "dtype: int64"
      ]
     },
     "execution_count": 3,
     "metadata": {},
     "output_type": "execute_result"
    }
   ],
   "execution_count": 3
  },
  {
   "metadata": {
    "ExecuteTime": {
     "end_time": "2024-06-12T18:46:09.800844Z",
     "start_time": "2024-06-12T18:46:09.547136Z"
    }
   },
   "cell_type": "code",
   "source": "combined_set_dirty[combined_set_dirty.isna().any(axis=1)]",
   "id": "7291a6e82abe9500",
   "outputs": [
    {
     "data": {
      "text/plain": [
       "        Age Gender  Tenure  Usage Frequency  Support Calls  Payment Delay  \\\n",
       "199295  NaN    NaN     NaN              NaN            NaN            NaN   \n",
       "\n",
       "       Subscription Type Contract Length  Total Spend  Last Interaction  Churn  \n",
       "199295               NaN             NaN          NaN               NaN    NaN  "
      ],
      "text/html": [
       "<div>\n",
       "<style scoped>\n",
       "    .dataframe tbody tr th:only-of-type {\n",
       "        vertical-align: middle;\n",
       "    }\n",
       "\n",
       "    .dataframe tbody tr th {\n",
       "        vertical-align: top;\n",
       "    }\n",
       "\n",
       "    .dataframe thead th {\n",
       "        text-align: right;\n",
       "    }\n",
       "</style>\n",
       "<table border=\"1\" class=\"dataframe\">\n",
       "  <thead>\n",
       "    <tr style=\"text-align: right;\">\n",
       "      <th></th>\n",
       "      <th>Age</th>\n",
       "      <th>Gender</th>\n",
       "      <th>Tenure</th>\n",
       "      <th>Usage Frequency</th>\n",
       "      <th>Support Calls</th>\n",
       "      <th>Payment Delay</th>\n",
       "      <th>Subscription Type</th>\n",
       "      <th>Contract Length</th>\n",
       "      <th>Total Spend</th>\n",
       "      <th>Last Interaction</th>\n",
       "      <th>Churn</th>\n",
       "    </tr>\n",
       "  </thead>\n",
       "  <tbody>\n",
       "    <tr>\n",
       "      <th>199295</th>\n",
       "      <td>NaN</td>\n",
       "      <td>NaN</td>\n",
       "      <td>NaN</td>\n",
       "      <td>NaN</td>\n",
       "      <td>NaN</td>\n",
       "      <td>NaN</td>\n",
       "      <td>NaN</td>\n",
       "      <td>NaN</td>\n",
       "      <td>NaN</td>\n",
       "      <td>NaN</td>\n",
       "      <td>NaN</td>\n",
       "    </tr>\n",
       "  </tbody>\n",
       "</table>\n",
       "</div>"
      ]
     },
     "execution_count": 4,
     "metadata": {},
     "output_type": "execute_result"
    }
   ],
   "execution_count": 4
  },
  {
   "metadata": {
    "ExecuteTime": {
     "end_time": "2024-06-12T18:46:14.894190Z",
     "start_time": "2024-06-12T18:46:14.443500Z"
    }
   },
   "cell_type": "code",
   "source": [
    "# remove row with missing values\n",
    "combined_set_dirty.dropna(inplace=True)\n",
    "\n",
    "combined_set_dirty.columns = [col.lower().replace(\" \", \"_\") for col in combined_set_dirty.columns]\n",
    "combined_set_dirty.info()"
   ],
   "id": "521699c3f844d8dd",
   "outputs": [
    {
     "name": "stdout",
     "output_type": "stream",
     "text": [
      "<class 'pandas.core.frame.DataFrame'>\n",
      "Int64Index: 505206 entries, 0 to 505206\n",
      "Data columns (total 11 columns):\n",
      " #   Column             Non-Null Count   Dtype  \n",
      "---  ------             --------------   -----  \n",
      " 0   age                505206 non-null  float64\n",
      " 1   gender             505206 non-null  object \n",
      " 2   tenure             505206 non-null  float64\n",
      " 3   usage_frequency    505206 non-null  float64\n",
      " 4   support_calls      505206 non-null  float64\n",
      " 5   payment_delay      505206 non-null  float64\n",
      " 6   subscription_type  505206 non-null  object \n",
      " 7   contract_length    505206 non-null  object \n",
      " 8   total_spend        505206 non-null  float64\n",
      " 9   last_interaction   505206 non-null  float64\n",
      " 10  churn              505206 non-null  float64\n",
      "dtypes: float64(8), object(3)\n",
      "memory usage: 46.3+ MB\n"
     ]
    }
   ],
   "execution_count": 5
  },
  {
   "metadata": {
    "ExecuteTime": {
     "end_time": "2024-06-12T18:47:11.076288Z",
     "start_time": "2024-06-12T18:47:10.910785Z"
    }
   },
   "cell_type": "code",
   "source": "combined_set_dirty[combined_set_dirty.isna().any(axis=1)]",
   "id": "386edb816ee447ab",
   "outputs": [
    {
     "data": {
      "text/plain": [
       "Empty DataFrame\n",
       "Columns: [age, gender, tenure, usage_frequency, support_calls, payment_delay, subscription_type, contract_length, total_spend, last_interaction, churn]\n",
       "Index: []"
      ],
      "text/html": [
       "<div>\n",
       "<style scoped>\n",
       "    .dataframe tbody tr th:only-of-type {\n",
       "        vertical-align: middle;\n",
       "    }\n",
       "\n",
       "    .dataframe tbody tr th {\n",
       "        vertical-align: top;\n",
       "    }\n",
       "\n",
       "    .dataframe thead th {\n",
       "        text-align: right;\n",
       "    }\n",
       "</style>\n",
       "<table border=\"1\" class=\"dataframe\">\n",
       "  <thead>\n",
       "    <tr style=\"text-align: right;\">\n",
       "      <th></th>\n",
       "      <th>age</th>\n",
       "      <th>gender</th>\n",
       "      <th>tenure</th>\n",
       "      <th>usage_frequency</th>\n",
       "      <th>support_calls</th>\n",
       "      <th>payment_delay</th>\n",
       "      <th>subscription_type</th>\n",
       "      <th>contract_length</th>\n",
       "      <th>total_spend</th>\n",
       "      <th>last_interaction</th>\n",
       "      <th>churn</th>\n",
       "    </tr>\n",
       "  </thead>\n",
       "  <tbody>\n",
       "  </tbody>\n",
       "</table>\n",
       "</div>"
      ]
     },
     "execution_count": 7,
     "metadata": {},
     "output_type": "execute_result"
    }
   ],
   "execution_count": 7
  },
  {
   "metadata": {
    "ExecuteTime": {
     "end_time": "2024-06-12T18:47:21.593272Z",
     "start_time": "2024-06-12T18:47:21.518453Z"
    }
   },
   "cell_type": "code",
   "source": [
    "numerals = [\"age\", \"tenure\", \"usage_frequency\", \"support_calls\", \"payment_delay\", \"last_interaction\", \"churn\"]\n",
    "\n",
    "for col in numerals:\n",
    "    combined_set_dirty[col] = combined_set_dirty[col].astype(int)\n",
    "    "
   ],
   "id": "7a7258d15a4fea7c",
   "outputs": [],
   "execution_count": 8
  },
  {
   "metadata": {},
   "cell_type": "code",
   "source": [
    "# # Create a label encoder object\n",
    "# le = LabelEncoder()\n",
    "# \n",
    "# # List of columns you want to convert\n",
    "# columns_to_convert = ['gender', 'subscription_type', 'contract_length']\n",
    "# \n",
    "# # Apply the label encoder to each column and print the mapping\n",
    "# for column in columns_to_convert:\n",
    "#     combined_set_dirty[column] = le.fit_transform(combined_set_dirty[column])\n",
    "#     print(f\"Mapping for {column}:\")\n",
    "#     for class_, label in zip(le.classes_, range(len(le.classes_))):\n",
    "#         print(f\"{class_} -> {label}\")\n",
    "#     print(\"\\n\")"
   ],
   "id": "9e308f344b590636",
   "outputs": [],
   "execution_count": null
  },
  {
   "metadata": {
    "ExecuteTime": {
     "end_time": "2024-06-12T18:47:29.337174Z",
     "start_time": "2024-06-12T18:47:29.299809Z"
    }
   },
   "cell_type": "code",
   "source": "cleaned_set = combined_set_dirty.copy()",
   "id": "51aa90d8e640ea87",
   "outputs": [],
   "execution_count": 9
  },
  {
   "metadata": {},
   "cell_type": "markdown",
   "source": "Descriptive Analytics",
   "id": "c29154d4aca422a6"
  },
  {
   "metadata": {},
   "cell_type": "code",
   "source": [
    "# Summary statistics\n",
    "print(\"Summary Statistics for Churned Customers:\")\n",
    "print(cleaned_set[cleaned_set['churn'] == 1].describe())\n",
    "print(\"\\nSummary Statistics for Non-Churned Customers:\")\n",
    "print(cleaned_set[cleaned_set['churn'] == 0].describe())\n",
    "\n",
    "# Distribution of categorical variables\n",
    "categorical_columns = ['gender', 'subscription_type', 'contract_length']\n",
    "for column in categorical_columns:\n",
    "    plt.figure(figsize=(10,5))\n",
    "    sns.countplot(data=cleaned_set, x=column, hue='churn')\n",
    "    plt.title(f'Distribution of {column} for Churned and Non-Churned Customers')\n",
    "    plt.show()\n",
    "\n",
    "# Correlation analysis\n",
    "correlation = cleaned_set.corr()\n",
    "plt.figure(figsize=(10,8))\n",
    "sns.heatmap(correlation, annot=True, cmap='coolwarm')\n",
    "plt.title('Correlation Heatmap')\n",
    "plt.show()\n",
    "\n",
    "# Churn rate\n",
    "churn_rate = cleaned_set['churn'].mean() * 100\n",
    "print(f\"Churn Rate: {churn_rate}%\")"
   ],
   "id": "94855a09b7c82e34",
   "outputs": [],
   "execution_count": null
  },
  {
   "metadata": {},
   "cell_type": "code",
   "source": [
    "numeric_cols = [\"age\", \"tenure\", \"usage_frequency\", \"support_calls\", \"payment_delay\", \"last_interaction\", \"total_spend\"]\n",
    "\n",
    "num_bins = 3\n",
    "\n",
    "excourse_set = cleaned_set.copy()\n",
    "\n",
    "for col in numeric_cols:\n",
    "    excourse_set[col] = pd.cut(cleaned_set[col], num_bins, duplicates='drop')\n",
    "    print(col)\n",
    "    for interval in excourse_set[col].cat.categories:\n",
    "        print(interval)"
   ],
   "id": "a1670fa2ee6fbd71",
   "outputs": [],
   "execution_count": null
  },
  {
   "metadata": {},
   "cell_type": "code",
   "source": [
    "columns = [\"age\", \"gender\", \"tenure\", \"usage_frequency\", \"support_calls\", \"payment_delay\", \"subscription_type\", \"contract_length\", \"total_spend\", \"last_interaction\"]\n",
    "\n",
    "stacked_data_percent = {}\n",
    "\n",
    "for col in columns:\n",
    "    category_counts = excourse_set.groupby([col, \"churn\"]).size().unstack(fill_value=0)\n",
    "    \n",
    "    category_percent = category_counts.div(category_counts.sum(axis=1), axis=0) * 100\n",
    "    print(category_percent)\n",
    "    stacked_data_percent[col] = category_percent\n",
    "    "
   ],
   "id": "129bd3f3c68f5921",
   "outputs": [],
   "execution_count": null
  },
  {
   "metadata": {},
   "cell_type": "code",
   "source": [
    "# Calculate the overall churn rate\n",
    "overall_churn_rate = excourse_set['churn'].mean() * 100\n",
    "\n",
    "# Add a new row to each DataFrame in stacked_data_percent with the overall churn rate\n",
    "for col, df in stacked_data_percent.items():\n",
    "    df.loc['Overall'] = [100 - overall_churn_rate, overall_churn_rate]\n",
    "    \n",
    "colors = {0: 'green', 1: 'red'}\n",
    "for col, df in stacked_data_percent.items():\n",
    "    ax = df.plot(kind='barh', stacked=True, color=[colors[churn] for churn in df.columns],\n",
    "                 title=f'Percentage Chart of Churned Customers in {col}')\n",
    "    plt.ylabel(col)\n",
    "    plt.xlabel('Percentage')\n",
    "    plt.legend([\"No Churn\", \"Churn\"], loc='best')\n",
    "\n",
    "    # Add the percentage values on each bar\n",
    "    for p in ax.patches:\n",
    "        width = p.get_width()\n",
    "        height = p.get_height()\n",
    "        x, y = p.get_xy()\n",
    "        ax.text(x+width/2,\n",
    "                y+height/2,\n",
    "                '{:.1f} %'.format(width),\n",
    "                horizontalalignment='center',\n",
    "                verticalalignment='center')\n",
    "    plt.show()"
   ],
   "id": "5765c52a8a7fe3a1",
   "outputs": [],
   "execution_count": null
  },
  {
   "metadata": {},
   "cell_type": "code",
   "source": [
    "combinations = list(itertools.combinations(columns, 2))\n",
    "\n",
    "# Analyze each combination\n",
    "for combination in combinations:\n",
    "    # Create a multi-index DataFrame\n",
    "    multi_index_df = excourse_set.set_index(list(combination) + ['churn'])\n",
    "\n",
    "    # Calculate the size of each group\n",
    "    grouped_df = multi_index_df.groupby(list(combination) + ['churn']).size()\n",
    "\n",
    "    # Unstack the DataFrame to get a cross-tabulation\n",
    "    cross_tab = grouped_df.unstack(fill_value=0)\n",
    "\n",
    "    # Convert absolute numbers to relative percentages\n",
    "    cross_tab_percent = cross_tab.div(cross_tab.sum(axis=1), axis=0) * 100\n",
    "\n",
    "    # Print the cross-tabulation\n",
    "    print(f\"Cross-tabulation for {combination}:\")\n",
    "    print(cross_tab_percent)\n",
    "    print(\"\\n\")"
   ],
   "id": "5dc8f5611d13dc46",
   "outputs": [],
   "execution_count": null
  },
  {
   "metadata": {},
   "cell_type": "code",
   "source": [
    "combinations = list(itertools.combinations(columns, 3))\n",
    "\n",
    "# Analyze each combination\n",
    "for combination in combinations:\n",
    "    # Create a multi-index DataFrame\n",
    "    multi_index_df = excourse_set.set_index(list(combination) + ['churn'])\n",
    "\n",
    "    # Calculate the size of each group\n",
    "    grouped_df = multi_index_df.groupby(list(combination) + ['churn']).size()\n",
    "\n",
    "    # Unstack the DataFrame to get a cross-tabulation\n",
    "    cross_tab = grouped_df.unstack(fill_value=0)\n",
    "\n",
    "    # Convert absolute numbers to relative percentages\n",
    "    cross_tab_percent = cross_tab.div(cross_tab.sum(axis=1), axis=0) * 100\n",
    "\n",
    "    # Print the cross-tabulation\n",
    "    print(f\"Cross-tabulation for {combination}:\")\n",
    "    print(cross_tab_percent)\n",
    "    print(\"\\n\")"
   ],
   "id": "f7109f9988cac69e",
   "outputs": [],
   "execution_count": null
  },
  {
   "metadata": {},
   "cell_type": "markdown",
   "source": [
    "# Predictive Analytics\n",
    "## Primitive Approach"
   ],
   "id": "92fe04358e315dd3"
  },
  {
   "metadata": {
    "ExecuteTime": {
     "end_time": "2024-06-12T19:56:41.792951Z",
     "start_time": "2024-06-12T19:56:40.973394Z"
    }
   },
   "cell_type": "code",
   "source": [
    "primitive_set = cleaned_set.copy()\n",
    "\n",
    "# Create a OneHotEncoder instance\n",
    "encoder = OneHotEncoder(sparse_output=False)\n",
    "\n",
    "# Identify categorical columns\n",
    "categorical_cols = ['gender', 'subscription_type', 'contract_length']\n",
    "\n",
    "# Fit and transform the data, converting it into a DataFrame\n",
    "primitive_set_encoded = pd.DataFrame(encoder.fit_transform(primitive_set[categorical_cols]))\n",
    "\n",
    "# Get feature names from the encoder and assign them as column names\n",
    "primitive_set_encoded.columns = encoder.get_feature_names_out(categorical_cols)\n",
    "\n",
    "# Drop the original categorical columns\n",
    "primitive_set.drop(categorical_cols, axis=1, inplace=True)\n",
    "\n",
    "# Reset the indices of the dataframes\n",
    "primitive_set = primitive_set.reset_index(drop=True)\n",
    "primitive_set_encoded = primitive_set_encoded.reset_index(drop=True)\n",
    "\n",
    "# Concatenate the original DataFrame with the one-hot encoded DataFrame\n",
    "primitive_set = pd.concat([primitive_set, primitive_set_encoded], axis=1)\n",
    "\n",
    "primitive_set.info()"
   ],
   "id": "2c3a204f8b5fde19",
   "outputs": [
    {
     "name": "stdout",
     "output_type": "stream",
     "text": [
      "<class 'pandas.core.frame.DataFrame'>\n",
      "RangeIndex: 505206 entries, 0 to 505205\n",
      "Data columns (total 16 columns):\n",
      " #   Column                      Non-Null Count   Dtype  \n",
      "---  ------                      --------------   -----  \n",
      " 0   age                         505206 non-null  int32  \n",
      " 1   tenure                      505206 non-null  int32  \n",
      " 2   usage_frequency             505206 non-null  int32  \n",
      " 3   support_calls               505206 non-null  int32  \n",
      " 4   payment_delay               505206 non-null  int32  \n",
      " 5   total_spend                 505206 non-null  float64\n",
      " 6   last_interaction            505206 non-null  int32  \n",
      " 7   churn                       505206 non-null  int32  \n",
      " 8   gender_Female               505206 non-null  float64\n",
      " 9   gender_Male                 505206 non-null  float64\n",
      " 10  subscription_type_Basic     505206 non-null  float64\n",
      " 11  subscription_type_Premium   505206 non-null  float64\n",
      " 12  subscription_type_Standard  505206 non-null  float64\n",
      " 13  contract_length_Annual      505206 non-null  float64\n",
      " 14  contract_length_Monthly     505206 non-null  float64\n",
      " 15  contract_length_Quarterly   505206 non-null  float64\n",
      "dtypes: float64(9), int32(7)\n",
      "memory usage: 48.2 MB\n"
     ]
    }
   ],
   "execution_count": 29
  },
  {
   "metadata": {
    "ExecuteTime": {
     "end_time": "2024-06-12T19:59:03.913001Z",
     "start_time": "2024-06-12T19:59:03.278964Z"
    }
   },
   "cell_type": "code",
   "source": [
    "X = primitive_set.drop('churn', axis=1)\n",
    "y = primitive_set['churn']\n",
    "\n",
    "X_train, X_test, y_train, y_test = train_test_split(X, y, test_size=0.2, random_state=42)\n",
    "\n",
    "scaler = StandardScaler()\n",
    "X_train = scaler.fit_transform(X_train)\n",
    "X_test = scaler.transform(X_test)\n",
    "\n",
    "model = LogisticRegression()\n",
    "\n",
    "model.fit(X_train, y_train)\n",
    "\n",
    "y_pred = model.predict(X_test)\n",
    "\n",
    "\n",
    "\n",
    "plt.figure(figsize=(10, 8))\n",
    "sns.barplot(x=[\"MSE\", \"MAE\", \"R2\"], y=[mse, mae, r2])\n",
    "plt.title(\"Primitive Model Performance Metrics\")\n",
    "plt.show()\n"
   ],
   "id": "bfda46308fe5ba5f",
   "outputs": [
    {
     "name": "stdout",
     "output_type": "stream",
     "text": [
      "MSE: 0.15392609014073355\n",
      "MAE: 0.15392609014073355\n",
      "R2: 0.3768018443702186\n"
     ]
    },
    {
     "data": {
      "text/plain": [
       "<Figure size 1000x800 with 1 Axes>"
      ],
      "image/png": "[encoded data removed]"
     },
     "metadata": {},
     "output_type": "display_data"
    }
   ],
   "execution_count": 36
  },
  {
   "metadata": {
    "ExecuteTime": {
     "end_time": "2024-06-12T20:06:28.842464Z",
     "start_time": "2024-06-12T20:06:28.692501Z"
    }
   },
   "cell_type": "code",
   "source": [
    "# Calculate the performance metrics\n",
    "\n",
    "# Predict the probabilities of the positive class\n",
    "y_pred_proba = model.predict_proba(X_test)[:, 1]\n",
    "\n",
    "\n",
    "mse = mean_squared_error(y_test, y_pred)\n",
    "mae = mean_absolute_error(y_test, y_pred)\n",
    "r2 = r2_score(y_test, y_pred)\n",
    "accuracy = accuracy_score(y_test, y_pred)\n",
    "precision = precision_score(y_test, y_pred)\n",
    "recall = recall_score(y_test, y_pred)\n",
    "f1 = f1_score(y_test, y_pred)\n",
    "roc_auc = roc_auc_score(y_test, y_pred_proba)\n",
    "\n",
    "print(f\"MSE: {mse}\\nMAE: {mae}\\nR2: {r2}\\nAccuracy: {accuracy}\\nPrecision: {precision}\\nRecall: {recall}\\nF1 Score: {f1}\\nROC AUC: {roc_auc}\")"
   ],
   "id": "bef34fddc91311fa",
   "outputs": [
    {
     "name": "stdout",
     "output_type": "stream",
     "text": [
      "MSE: 0.15392609014073355\n",
      "MAE: 0.15392609014073355\n",
      "R2: 0.3768018443702186\n",
      "Accuracy: 0.8460739098592664\n",
      "Precision: 0.8717967545341068\n",
      "Recall: 0.8471486416581937\n",
      "F1 Score: 0.8592959823407545\n",
      "ROC AUC: 0.9068711030711689\n"
     ]
    }
   ],
   "execution_count": 38
  }
 ],
 "metadata": {
  "kernelspec": {
   "display_name": "Python 3",
   "language": "python",
   "name": "python3"
  },
  "language_info": {
   "codemirror_mode": {
    "name": "ipython",
    "version": 2
   },
   "file_extension": ".py",
   "mimetype": "text/x-python",
   "name": "python",
   "nbconvert_exporter": "python",
   "pygments_lexer": "ipython2",
   "version": "2.7.6"
  }
 },
 "nbformat": 4,
 "nbformat_minor": 5
}
